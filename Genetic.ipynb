{
  "nbformat": 4,
  "nbformat_minor": 0,
  "metadata": {
    "colab": {
      "provenance": [],
      "authorship_tag": "ABX9TyOP9RB39BmkGFGpEGAoOhYO",
      "include_colab_link": true
    },
    "kernelspec": {
      "name": "python3",
      "display_name": "Python 3"
    },
    "language_info": {
      "name": "python"
    }
  },
  "cells": [
    {
      "cell_type": "markdown",
      "metadata": {
        "id": "view-in-github",
        "colab_type": "text"
      },
      "source": [
        "<a href=\"https://colab.research.google.com/github/Aimee-ARC/Inteligencia_Artificial/blob/main/Genetic.ipynb\" target=\"_parent\"><img src=\"https://colab.research.google.com/assets/colab-badge.svg\" alt=\"Open In Colab\"/></a>"
      ]
    },
    {
      "cell_type": "markdown",
      "source": [
        "#Genetic Algorithm in Python \"Traveling Salesman\"\n",
        "\n"
      ],
      "metadata": {
        "id": "7uqBlNVJVQjw"
      }
    },
    {
      "cell_type": "markdown",
      "source": [
        "##Inisialization\n",
        "We import the necessary libraries\n",
        "\n",
        "We create an empty graph\n",
        "\n",
        "We read the Map.txt file and add nodes and edges to the graph\n",
        "\n",
        "The following code creates an empty graph, reads a file called Map.txt, and adds nodes and edges to the graph. The Map.txt file should contain information about the cities and the connections between them, including the time and cost of travel between each pair of cities."
      ],
      "metadata": {
        "id": "ytHbtr6-WVuY"
      }
    },
    {
      "cell_type": "code",
      "execution_count": 2,
      "metadata": {
        "id": "EItPwkMZkaD_"
      },
      "outputs": [],
      "source": [
        "import networkx as nx\n",
        "import random\n",
        "import copy\n",
        "\n",
        "Cities = nx.Graph()\n",
        "\n",
        "with open(\"Map.txt\") as file:\n",
        "    for line in file:\n",
        "        nodes = line.split()\n",
        "        Cities.add_edge(nodes[0], nodes[1], time=int(nodes[2]), cost=int(nodes[3]))\n",
        "\n",
        "##the map:\n",
        "##Amsterdam Berlin 364 235\n",
        "##Amsterdam Cologne 120 40\n",
        "##Amsterdam Brussels 105 48\n",
        "##Berlin Frankfurt 232 125\n",
        "##Berlin Amsterdam 364 235\n",
        "##Cologne Frankfurt 120 40\n",
        "##Cologne Amsterdam 120 40\n",
        "##Frankfurt Paris 480 345\n",
        "##Frankfurt Milan 454 240\n",
        "##Frankfurt Cologne 120 40\n",
        "##Frankfurt Berlin 232 125\n",
        "##Brussels Paris 82 80\n",
        "##Brussels Amsterdam 105 48\n",
        "##London Paris 136 98\n",
        "##London Brussels 136 98\n",
        "##Paris Lyon 112 185\n",
        "##Paris London 136 98\n",
        "##Paris Brussels 82 80\n",
        "##Paris Barcelona 390 400\n",
        "##Paris Madrid 225 380\n",
        "##Paris Frankfurt 480 345\n",
        "##Lyon Paris 112 185\n",
        "##Lyon Milan 176 180\n",
        "##Lyon Barcelona 200 320\n",
        "##Milan Frankfurt 454 240\n",
        "##Milan Rome 168 125\n",
        "##Milan Lyon 176 180\n",
        "##Barcelona Paris 390 400\n",
        "##Barcelona Lyon 200 320\n",
        "##Barcelona Madrid 150 98\n",
        "##Madrid Paris 225 380\n",
        "##Madrid Barcelona 150 98"
      ]
    },
    {
      "cell_type": "markdown",
      "source": [
        "The fitness of a particular route is determined by the Fitness function. The cost and uniqueness of the route's nodes are combined to form the fitness value. The number of unique nodes in the route determines the uniqueness, whereas the cost is the reciprocal of the total of the cost of each edge in the route. By attempting to access the weight of each edge in the route, the function first determines whether the provided route is valid. A route yields a fitness of 0 if it is invalid. Following that, the function computes the cost and the total unique nodes, returning the sum as the fitness value."
      ],
      "metadata": {
        "id": "kb3vyHhAh2w7"
      }
    },
    {
      "cell_type": "code",
      "source": [
        "def Fitness(route):\n",
        "\n",
        "    for i in range(len(route)-1):\n",
        "      try:\n",
        "        edge = Cities[route[i]][route[i+1]]\n",
        "      except:\n",
        "        return 0\n",
        "\n",
        "    cost = 1/sum(Cities[route[i]][route[i+1]]['cost'] for i in range(len(route)-1))\n",
        "\n",
        "    unique_nodes = len(set(route)) \n",
        "\n",
        "    return cost + unique_nodes"
      ],
      "metadata": {
        "id": "PoYqMe-ok2aw"
      },
      "execution_count": 3,
      "outputs": []
    },
    {
      "cell_type": "markdown",
      "source": [
        "The RandomRoute function generates a random route by starting at a random node and visiting its unvisited neighboring nodes until the total travel time exceeds 72 hours (4320 minutes). The function takes no parameters and returns a tuple containing the generated route, the total travel time and the total travel cost."
      ],
      "metadata": {
        "id": "l4dhU5wkXkmr"
      }
    },
    {
      "cell_type": "code",
      "source": [
        "def RandomRoute():\n",
        "\n",
        "    current = random.choice(list(Cities.nodes()))\n",
        "\n",
        "    route = [current]\n",
        "    time = 0\n",
        "    cost = 0\n",
        "    visited_nodes = set([current])\n",
        "\n",
        "    while time < 4320:\n",
        "\n",
        "        adjacent = Cities.neighbors(current)\n",
        "\n",
        "        \n",
        "        adjacent_not_visited = [n for n in adjacent if n not in visited_nodes]\n",
        "        if not adjacent_not_visited:\n",
        "            break\n",
        "\n",
        "        next = random.choice(adjacent_not_visited)\n",
        "\n",
        "        route.append(next)\n",
        "        edge = Cities[current][next]\n",
        "        time += edge['time']\n",
        "        cost += edge['cost']\n",
        "\n",
        "        current = next\n",
        "        visited_nodes.add(current)\n",
        "\n",
        "    return route, time, cost\n"
      ],
      "metadata": {
        "id": "i6_5JaE-k0CX"
      },
      "execution_count": 4,
      "outputs": []
    },
    {
      "cell_type": "markdown",
      "source": [
        "Utilizing the RandomRoute() function and the Fitness() function, the generate_random_solution() function constructs a random route and assesses its fitness. The function's result is a dictionary including the route, time, cost, and fitness of the produced route.\n"
      ],
      "metadata": {
        "id": "cjoCt7m4j_aB"
      }
    },
    {
      "cell_type": "code",
      "source": [
        "def generate_random_solution():\n",
        "    route, time, cost = RandomRoute()\n",
        "    fitness = Fitness(route)\n",
        "    individual_info = {'route': route, 'time': time, 'cost': cost, 'fitness': fitness}\n",
        "    \n",
        "    return individual_info"
      ],
      "metadata": {
        "id": "TejW7xL3k4e7"
      },
      "execution_count": 5,
      "outputs": []
    },
    {
      "cell_type": "markdown",
      "source": [
        "A population of random paths is created using the function generatePopulation. GeneratiomSize, which denotes the size of the intended population, is a required input parameter. The function uses the generate_random_solution function to generate a random path for each iteration as it loops over GeneratiomSize iterations. Each route developed is then added to the population list. The function then returns the population, which is a list of routes that were produced."
      ],
      "metadata": {
        "id": "FppGl2zJlevr"
      }
    },
    {
      "cell_type": "code",
      "source": [
        "def generatePopulation(genSize):\n",
        "  population = []\n",
        "  for i in range(genSize):\n",
        "      route = generate_random_solution()\n",
        "      population.append(route)\n",
        "  return population"
      ],
      "metadata": {
        "id": "qWgTaMDPk6vZ"
      },
      "execution_count": 6,
      "outputs": []
    },
    {
      "cell_type": "markdown",
      "source": [
        "When a list of routes is provided as input, this method outputs a new list of those same routes, sorted in descending order according to their fitness values. The key 'fitness' in the dictionary that describes each route can be used to retrieve the fitness value of each route. The built-in Python function sorted() is used to sort the data, with the reverse argument set to True.\n"
      ],
      "metadata": {
        "id": "50JngCpurBvZ"
      }
    },
    {
      "cell_type": "code",
      "source": [
        "def sortByFitnessDescending(routes):\n",
        "    \n",
        "    sorted_routes = sorted(routes, key=lambda x: x['fitness'], reverse = True)\n",
        "\n",
        "    return sorted_routes"
      ],
      "metadata": {
        "id": "2TFNzZ5Uk9A6"
      },
      "execution_count": 7,
      "outputs": []
    },
    {
      "cell_type": "markdown",
      "source": [
        "By adding the time and cost values of each edge between subsequent nodes in the route, this function takes a route as an input and determines the overall time and cost of that route. The function returns (0, 0) if there isn't a graph edge connecting two of the route's nodes. The function then produces a tuple that includes the route's total time and total cost."
      ],
      "metadata": {
        "id": "5pKgsOvarq9b"
      }
    },
    {
      "cell_type": "code",
      "source": [
        "def route_cost_time(route):\n",
        "    total_time = 0\n",
        "    total_cost = 0\n",
        "    for i in range(len(route)-1):\n",
        "\n",
        "      try:\n",
        "        edge = Cities[route[i]][route[i+1]]\n",
        "      except:\n",
        "        return 0, 0\n",
        "\n",
        "      total_time += edge['time']\n",
        "      total_cost += edge['cost']\n",
        "    return total_time, total_cost"
      ],
      "metadata": {
        "id": "P186N0A2k9uf"
      },
      "execution_count": 8,
      "outputs": []
    },
    {
      "cell_type": "markdown",
      "source": [
        "By switching a section of their routes, the crossover function takes two individuals, route_1 and route_2, and creates two new individuals. The function selects a crossing point at random, then combines the tails of the old routes to form the new ones. Then, using the route_cost_time and fitness functions, it produces new individuals utilizing the new routes and determines their time, cost, and fitness. The function then returns the two fresh people. In genetic algorithms, this function is frequently employed to produce new people in the following generation."
      ],
      "metadata": {
        "id": "4oWyfPb7sMoK"
      }
    },
    {
      "cell_type": "code",
      "source": [
        "def crossover(route_1, route_2):\n",
        "    # Choose a random crossover point\n",
        "    crossover_point = random.randint(1, len(route_1['route']) - 1)\n",
        "\n",
        "    # Swap the tails of the routes to create the new routes\n",
        "    new_route_1 = route_1['route'][:crossover_point] + route_2['route'][crossover_point:]\n",
        "    new_route_2 = route_2['route'][:crossover_point] + route_1['route'][crossover_point:]\n",
        "\n",
        "    # Create the new individuals with the new routes and calculate their time and cost\n",
        "    new_individual_1 = {'route': new_route_1, 'time': 0, 'cost': 0, 'fitness': 0}\n",
        "    new_individual_2 = {'route': new_route_2, 'time': 0, 'cost': 0, 'fitness': 0}\n",
        "    for individual in (new_individual_1, new_individual_2):\n",
        "        individual['time'], individual['cost'] = route_cost_time(individual['route'])\n",
        "        individual['fitness'] = Fitness(individual['route'])\n",
        "\n",
        "    return new_individual_1, new_individual_2\n"
      ],
      "metadata": {
        "id": "AdSbwPo9lAwq"
      },
      "execution_count": 9,
      "outputs": []
    },
    {
      "cell_type": "markdown",
      "source": [
        "The next generation of individuals for a genetic algorithm is produced by the function generate_next_generation. It requires two inputs: the number of elite individuals to be preserved in the following generation and a mating pool of individuals. The elite people are first included in the upcoming generation. Following that, it applies crossover to two randomly chosen parents from the mating pool to produce two new children. Only if the children have a fitness value that is not zero are they added to the following generation. This operation is repeated by the function until the targeted population size is attained. The future generation of people is the function's output.\n"
      ],
      "metadata": {
        "id": "SAQSF-4As0bI"
      }
    },
    {
      "cell_type": "code",
      "source": [
        "def generate_next_generation (matingpool, eliteSize):\n",
        "    # Create the initial next generation with the elite individuals\n",
        "    nextGen = sortByFitnessDescending(matingpool)[:eliteSize]\n",
        "\n",
        "    # Generate new children until reaching the desired population size\n",
        "    while len(nextGen) < len(matingpool):\n",
        "        # Choose two parents randomly from the mating pool\n",
        "        parent1, parent2 = random.sample(matingpool, 2)\n",
        "\n",
        "        # Generate two new children by single point crossover\n",
        "        child1, child2 = crossover(parent1, parent2)\n",
        "\n",
        "        # Add the children to the next generation if they have a non-zero fitness\n",
        "        if child1['fitness'] > 0:\n",
        "            nextGen.append(child1)\n",
        "        if child2['fitness'] > 0 and len(nextGen) < len(matingpool):\n",
        "            nextGen.append(child2)\n",
        "\n",
        "    return nextGen\n"
      ],
      "metadata": {
        "id": "-ZzflgCtlChR"
      },
      "execution_count": 10,
      "outputs": []
    },
    {
      "cell_type": "markdown",
      "source": [
        "By randomly reversing a segment of the route between two points with a probability determined by the mutationRate argument, this function modifies a route. To prevent directly altering the input route, it first creates a replica of it. The mutationRate is then used to determine if the mutation should be implemented. If the mutation is used, the route's middle part is reversed and two random places are chosen along the way. The time, cost, and fitness of the modified route are then calculated and returned. The function returns the original input route if the mutation is not implemented.\n",
        "\n",
        "\n",
        "\n",
        "\n",
        "\n"
      ],
      "metadata": {
        "id": "t2E4EPTCwedi"
      }
    },
    {
      "cell_type": "code",
      "source": [
        "def apply_mutation(route, mutationRate):\n",
        "    mutated = route.copy()\n",
        "    if random.uniform(0, 1) < mutationRate:\n",
        "\n",
        "        position1 = random.randint(0, len(route['route']) - 2)\n",
        "        position2 = random.randint(position1 + 1, len(route['route']) - 1)\n",
        "\n",
        "        mutated['time'] = 0\n",
        "        mutated['cost'] = 0\n",
        "        mutated['fitness'] = 0\n",
        "\n",
        "        route['route'][position1:position2+1] = reversed(route['route'][position1:position2+1])\n",
        "\n",
        "        mutated['time'], mutated['cost'] = route_cost_time(mutated)\n",
        "\n",
        "        mutated['fitness'] = Fitness(mutated)\n",
        "\n",
        "    return mutated"
      ],
      "metadata": {
        "id": "_AD6ceFClEJR"
      },
      "execution_count": 11,
      "outputs": []
    },
    {
      "cell_type": "markdown",
      "source": [
        "The function mutatePopulation applies a mutation operation with a specific probability to every member of a population of persons (each of whom represents a potential solution to a problem). The inverse_mutate function carries out the mutation procedure by picking two random locations in the person's chromosome and flipping the order of the cities between those locations. The mutatePopulation method applies the mutation, adds the modified person to a new generation, and then returns the mutated population.\n",
        "\n",
        "By flipping the cities in the chromosome between two randomly selected sites, the inverse_mutate function really performs the mutation. It then recalculates the mutated individual's time, cost, and fitness and returns the results."
      ],
      "metadata": {
        "id": "rgR2KcpBwnHr"
      }
    },
    {
      "cell_type": "code",
      "source": [
        "def mutatePopulation(generation, mutationRate):\n",
        "    mutatedGen = []\n",
        "\n",
        "    for i in range(0, len(generation)):\n",
        "        if random.uniform(0, 1) < mutationRate:\n",
        "            apply_mutation = inverse_mutate(generation[i])\n",
        "        else:\n",
        "            apply_mutation = generation[i].copy()\n",
        "        mutatedGen.append(apply_mutation)\n",
        "\n",
        "    return mutatedGen\n",
        "\n",
        "def inverse_mutate(route):\n",
        "    mutated = route.copy()\n",
        "\n",
        "    # Choose two random positions in the chromosome\n",
        "    position1 = random.randint(0, len(route['route']) - 2)\n",
        "    position2 = random.randint(position1 + 1, len(route['route']) - 1)\n",
        "\n",
        "    # Reverse the order of the cities between the two chosen positions\n",
        "    mutated['route'][position1:position2+1] = reversed(route['route'][position1:position2+1])\n",
        "\n",
        "    # Recalculate time, cost and fitness for the new individual\n",
        "    mutated['time'], mutated['cost'] = route_cost_time(mutated)\n",
        "    mutated['fitness'] = Fitness(mutated)\n",
        "\n",
        "    return mutated\n"
      ],
      "metadata": {
        "id": "fUJjPszalGXP"
      },
      "execution_count": 12,
      "outputs": []
    },
    {
      "cell_type": "markdown",
      "source": [
        "This function executes the entire process of creating the next generation for a genetic algorithm and is a combination of the three previous methods (sortByFitnessDescending, generate_next_generation, and mutatePopulation).\n",
        "\n",
        "The first step in the function is to rank the present generation according to fitness level and then pick the top candidates. Then, using a predetermined mutation rate, it breeds the remaining individuals to produce new offspring. The function then returns the following generation, which was created by combining the elite individuals and the altered offspring.\n"
      ],
      "metadata": {
        "id": "KnBMSW1_wn8P"
      }
    },
    {
      "cell_type": "code",
      "source": [
        "def breed_mutate_next_generation(currentGen, eliteSize, mutationRate):\n",
        "    # Sort current generation by fitness\n",
        "    Ranked = sortByFitnessDescending(currentGen)\n",
        "    \n",
        "    # Select elite individuals\n",
        "    elite = Ranked[:eliteSize]\n",
        "    \n",
        "    # Breed the remaining individuals\n",
        "    children = generate_next_generation (Ranked[eliteSize:], eliteSize)\n",
        "    \n",
        "    # Mutate the children\n",
        "    mutatedChildren = mutatePopulation(children, mutationRate)\n",
        "    \n",
        "    # Combine the elite with the mutated children to form the next generation\n",
        "    nextGen = elite + mutatedChildren\n",
        "    \n",
        "    return nextGen\n"
      ],
      "metadata": {
        "id": "ytc-ln-5lG7m"
      },
      "execution_count": 13,
      "outputs": []
    },
    {
      "cell_type": "markdown",
      "source": [
        "This function applies a genetic algorithm to a route-related problem. It begins by creating a population of routes and then iterates through the number of generations indicated by the 'generations' option. The function chooses the most fit individuals from the present population (the \"elite\"), breeds new individuals by fusing the genes of the elite, mutates some of these new individuals, and then creates the following generation by fusing the elite with the mutant offspring. Natural selection, genetic recombination, and genetic mutation are the three processes that are used to choose the elite, breed, and modify organisms.\n",
        "\n",
        "A fitness function, which in this case calculates the cost or distance of a specific route, establishes an individual's level of fitness. The best and worst routes discovered in each generation are recorded by the function, which publishes them to the console for monitoring. The function then returns the best route discovered for the entire run after processing the last generation.\n"
      ],
      "metadata": {
        "id": "IazLI7jfwoj8"
      }
    },
    {
      "cell_type": "markdown",
      "source": [
        "**popSize** refers to the size of the initial population. That is, how many random individuals are generated at the start of the algorithm.\n",
        "\n",
        "**eliteSize** refers to the number of elite individuals that will be selected from the current population to pass on to the next generation without modification. This is done to maintain genetic diversity and conserve the most fit individuals.\n",
        "\n",
        "**mutationRate** refers to the mutation rate that applies to individuals in the population. The mutation rate determines the probability that a mutation will apply to an individual.\n",
        "\n",
        "**generations** refers to the number of generations to be executed in the algorithm. Each generation produces a new population of individuals through selection, crossing, and mutation of the previous population."
      ],
      "metadata": {
        "id": "M80W-9DezDvO"
      }
    },
    {
      "cell_type": "code",
      "source": [
        "def geneticAlgorithm(popSize, eliteSize, mutationRate, generations):\n",
        "    pop = generatePopulation(popSize)\n",
        "    bestRoute = sortByFitnessDescending(pop)[0]\n",
        "    print(f\"Initial best route distance: {bestRoute['fitness']}\")\n",
        "    print(f\"Initial best route: {bestRoute['route']}\")\n",
        "    print(\"----------------------------------------\")\n",
        "    \n",
        "    for i in range(generations):\n",
        "        pop = breed_mutate_next_generation(pop, eliteSize, mutationRate)\n",
        "        bestRoute = sortByFitnessDescending(pop)[0]\n",
        "        worstRoute = sortByFitnessDescending(pop)[-1]\n",
        "        print(f\"Generation {i+1} - Best route distance: {bestRoute['fitness']}\")\n",
        "        print(f\"Generation {i+1} - Best route: {bestRoute['route']}\")\n",
        "        print(f\"Generation {i+1} - Worst route distance: {worstRoute['fitness']}\")\n",
        "        print(f\"Generation {i+1} - Worst route: {worstRoute['route']}\")\n",
        "        print(\"----------------------------------------\")\n",
        "        \n",
        "    print(f\"Final best route distance: {sortByFitnessDescending(pop)[0]['fitness']}\")\n",
        "    print(f\"Final best route: {sortByFitnessDescending(pop)[0]['route']}\")\n",
        "    return sortByFitnessDescending(pop)[0]\n",
        "best_route = geneticAlgorithm(popSize=100, eliteSize=20, mutationRate=0.1, generations=20)\n"
      ],
      "metadata": {
        "colab": {
          "base_uri": "https://localhost:8080/"
        },
        "id": "MIQamh-PlJ3Z",
        "outputId": "81eb9307-a100-4eec-a808-8bab67fe17a9"
      },
      "execution_count": 14,
      "outputs": [
        {
          "output_type": "stream",
          "name": "stdout",
          "text": [
            "Initial best route distance: 11.000636132315522\n",
            "Initial best route: ['Madrid', 'Barcelona', 'Lyon', 'Paris', 'London', 'Brussels', 'Amsterdam', 'Berlin', 'Frankfurt', 'Milan', 'Rome']\n",
            "----------------------------------------\n",
            "Generation 1 - Best route distance: 11.000636132315522\n",
            "Generation 1 - Best route: ['Madrid', 'Barcelona', 'Lyon', 'Paris', 'London', 'Brussels', 'Amsterdam', 'Berlin', 'Frankfurt', 'Milan', 'Rome']\n",
            "Generation 1 - Worst route distance: 0\n",
            "Generation 1 - Worst route: ['Barcelona', 'Paris', 'Frankfurt', 'Berlin', 'Amsterdam', 'Brussels', 'London']\n",
            "----------------------------------------\n",
            "Generation 2 - Best route distance: 11.000636132315522\n",
            "Generation 2 - Best route: ['Madrid', 'Barcelona', 'Lyon', 'Paris', 'London', 'Brussels', 'Amsterdam', 'Berlin', 'Frankfurt', 'Milan', 'Rome']\n",
            "Generation 2 - Worst route distance: 0\n",
            "Generation 2 - Worst route: ['Madrid', 'Paris', 'Brussels', 'London']\n",
            "----------------------------------------\n",
            "Generation 3 - Best route distance: 11.000636132315522\n",
            "Generation 3 - Best route: ['Madrid', 'Barcelona', 'Lyon', 'Paris', 'London', 'Brussels', 'Amsterdam', 'Berlin', 'Frankfurt', 'Milan', 'Rome']\n",
            "Generation 3 - Worst route distance: 0\n",
            "Generation 3 - Worst route: ['Paris', 'Brussels', 'Paris', 'Lyon', 'Paris', 'London', 'Brussels']\n",
            "----------------------------------------\n",
            "Generation 4 - Best route distance: 11.000636132315522\n",
            "Generation 4 - Best route: ['Madrid', 'Barcelona', 'Lyon', 'Paris', 'London', 'Brussels', 'Amsterdam', 'Berlin', 'Frankfurt', 'Milan', 'Rome']\n",
            "Generation 4 - Worst route distance: 0\n",
            "Generation 4 - Worst route: ['Rome', 'Milan', 'Lyon', 'Paris', 'Frankfurt', 'Cologne', 'London', 'Brussels', 'Amsterdam']\n",
            "----------------------------------------\n",
            "Generation 5 - Best route distance: 11.000636132315522\n",
            "Generation 5 - Best route: ['Madrid', 'Barcelona', 'Lyon', 'Paris', 'London', 'Brussels', 'Amsterdam', 'Berlin', 'Frankfurt', 'Milan', 'Rome']\n",
            "Generation 5 - Worst route distance: 0\n",
            "Generation 5 - Worst route: ['Madrid', 'Paris', 'Lyon', 'Frankfurt', 'Paris', 'Cologne', 'Amsterdam', 'Berlin']\n",
            "----------------------------------------\n",
            "Generation 6 - Best route distance: 11.000636132315522\n",
            "Generation 6 - Best route: ['Madrid', 'Barcelona', 'Lyon', 'Paris', 'London', 'Brussels', 'Amsterdam', 'Berlin', 'Frankfurt', 'Milan', 'Rome']\n",
            "Generation 6 - Worst route distance: 0\n",
            "Generation 6 - Worst route: ['Paris', 'Barcelona', 'Lyon', 'Milan', 'Lyon', 'Barcelona', 'Paris', 'Brussels', 'London']\n",
            "----------------------------------------\n",
            "Generation 7 - Best route distance: 11.000636132315522\n",
            "Generation 7 - Best route: ['Madrid', 'Barcelona', 'Lyon', 'Paris', 'London', 'Brussels', 'Amsterdam', 'Berlin', 'Frankfurt', 'Milan', 'Rome']\n",
            "Generation 7 - Worst route distance: 0\n",
            "Generation 7 - Worst route: ['Rome', 'Milan', 'Frankfurt', 'London', 'Brussels', 'Amsterdam', 'Cologne', 'Frankfurt', 'Milan']\n",
            "----------------------------------------\n",
            "Generation 8 - Best route distance: 11.000636132315522\n",
            "Generation 8 - Best route: ['Madrid', 'Barcelona', 'Lyon', 'Paris', 'London', 'Brussels', 'Amsterdam', 'Berlin', 'Frankfurt', 'Milan', 'Rome']\n",
            "Generation 8 - Worst route distance: 0\n",
            "Generation 8 - Worst route: ['Milan', 'Lyon', 'Barcelona', 'Paris', 'Frankfurt', 'Brussels', 'Amsterdam', 'Cologne', 'London']\n",
            "----------------------------------------\n",
            "Generation 9 - Best route distance: 11.000636132315522\n",
            "Generation 9 - Best route: ['Madrid', 'Barcelona', 'Lyon', 'Paris', 'London', 'Brussels', 'Amsterdam', 'Berlin', 'Frankfurt', 'Milan', 'Rome']\n",
            "Generation 9 - Worst route distance: 0\n",
            "Generation 9 - Worst route: ['Lyon', 'Paris', 'Frankfurt', 'Milan', 'Lyon']\n",
            "----------------------------------------\n",
            "Generation 10 - Best route distance: 11.000636132315522\n",
            "Generation 10 - Best route: ['Madrid', 'Barcelona', 'Lyon', 'Paris', 'London', 'Brussels', 'Amsterdam', 'Berlin', 'Frankfurt', 'Milan', 'Rome']\n",
            "Generation 10 - Worst route distance: 0\n",
            "Generation 10 - Worst route: ['Rome', 'Milan', 'Frankfurt', 'Cologne', 'Amsterdam', 'Brussels', 'Amsterdam', 'Brussels', 'London']\n",
            "----------------------------------------\n",
            "Generation 11 - Best route distance: 11.000636132315522\n",
            "Generation 11 - Best route: ['Madrid', 'Barcelona', 'Lyon', 'Paris', 'London', 'Brussels', 'Amsterdam', 'Berlin', 'Frankfurt', 'Milan', 'Rome']\n",
            "Generation 11 - Worst route distance: 0\n",
            "Generation 11 - Worst route: ['Amsterdam', 'Brussels', 'Paris', 'Frankfurt', 'Milan', 'Frankfurt', 'Milan', 'Rome', 'Berlin']\n",
            "----------------------------------------\n",
            "Generation 12 - Best route distance: 11.000636132315522\n",
            "Generation 12 - Best route: ['Madrid', 'Barcelona', 'Lyon', 'Paris', 'London', 'Brussels', 'Amsterdam', 'Berlin', 'Frankfurt', 'Milan', 'Rome']\n",
            "Generation 12 - Worst route distance: 0\n",
            "Generation 12 - Worst route: ['Rome', 'Milan', 'Frankfurt', 'Milan', 'Amsterdam', 'Berlin', 'Frankfurt', 'Brussels', 'London']\n",
            "----------------------------------------\n",
            "Generation 13 - Best route distance: 11.000636132315522\n",
            "Generation 13 - Best route: ['Madrid', 'Barcelona', 'Lyon', 'Paris', 'London', 'Brussels', 'Amsterdam', 'Berlin', 'Frankfurt', 'Milan', 'Rome']\n",
            "Generation 13 - Worst route distance: 0\n",
            "Generation 13 - Worst route: ['Lyon', 'Barcelona', 'Paris', 'Madrid', 'Barcelona', 'Lyon', 'Paris', 'Madrid', 'Barcelona']\n",
            "----------------------------------------\n",
            "Generation 14 - Best route distance: 11.000636132315522\n",
            "Generation 14 - Best route: ['Madrid', 'Barcelona', 'Lyon', 'Paris', 'London', 'Brussels', 'Amsterdam', 'Berlin', 'Frankfurt', 'Milan', 'Rome']\n",
            "Generation 14 - Worst route distance: 0\n",
            "Generation 14 - Worst route: ['Rome', 'Milan', 'Lyon', 'Berlin', 'Amsterdam', 'Brussels', 'Paris', 'Madrid', 'Barcelona']\n",
            "----------------------------------------\n",
            "Generation 15 - Best route distance: 11.000636132315522\n",
            "Generation 15 - Best route: ['Madrid', 'Barcelona', 'Lyon', 'Paris', 'London', 'Brussels', 'Amsterdam', 'Berlin', 'Frankfurt', 'Milan', 'Rome']\n",
            "Generation 15 - Worst route distance: 0\n",
            "Generation 15 - Worst route: ['Lyon', 'Milan', 'Frankfurt', 'Milan', 'Berlin', 'Amsterdam', 'Brussels', 'Paris', 'Lyon']\n",
            "----------------------------------------\n",
            "Generation 16 - Best route distance: 11.000636132315522\n",
            "Generation 16 - Best route: ['Madrid', 'Barcelona', 'Lyon', 'Paris', 'London', 'Brussels', 'Amsterdam', 'Berlin', 'Frankfurt', 'Milan', 'Rome']\n",
            "Generation 16 - Worst route distance: 0\n",
            "Generation 16 - Worst route: ['Rome', 'Milan', 'Lyon', 'Brussels', 'Paris', 'Madrid', 'Barcelona', 'Amsterdam', 'Berlin']\n",
            "----------------------------------------\n",
            "Generation 17 - Best route distance: 11.000636132315522\n",
            "Generation 17 - Best route: ['Madrid', 'Barcelona', 'Lyon', 'Paris', 'London', 'Brussels', 'Amsterdam', 'Berlin', 'Frankfurt', 'Milan', 'Rome']\n",
            "Generation 17 - Worst route distance: 0\n",
            "Generation 17 - Worst route: ['Lyon', 'Barcelona', 'Lyon', 'Barcelona', 'Amsterdam', 'Brussels', 'Paris', 'Madrid', 'Berlin']\n",
            "----------------------------------------\n",
            "Generation 18 - Best route distance: 11.000636132315522\n",
            "Generation 18 - Best route: ['Madrid', 'Barcelona', 'Lyon', 'Paris', 'London', 'Brussels', 'Amsterdam', 'Berlin', 'Frankfurt', 'Milan', 'Rome']\n",
            "Generation 18 - Worst route distance: 0\n",
            "Generation 18 - Worst route: ['Rome', 'Lyon', 'Milan', 'Barcelona', 'Madrid', 'Paris']\n",
            "----------------------------------------\n",
            "Generation 19 - Best route distance: 11.000636132315522\n",
            "Generation 19 - Best route: ['Madrid', 'Barcelona', 'Lyon', 'Paris', 'London', 'Brussels', 'Amsterdam', 'Berlin', 'Frankfurt', 'Milan', 'Rome']\n",
            "Generation 19 - Worst route distance: 0\n",
            "Generation 19 - Worst route: ['Rome', 'Milan', 'Lyon', 'Barcelona', 'Madrid', 'Cologne', 'Amsterdam', 'Brussels', 'Paris']\n",
            "----------------------------------------\n",
            "Generation 20 - Best route distance: 11.000636132315522\n",
            "Generation 20 - Best route: ['Madrid', 'Barcelona', 'Lyon', 'Paris', 'London', 'Brussels', 'Amsterdam', 'Berlin', 'Frankfurt', 'Milan', 'Rome']\n",
            "Generation 20 - Worst route distance: 0\n",
            "Generation 20 - Worst route: ['Rome', 'Milan', 'Lyon', 'Barcelona', 'Madrid', 'Berlin', 'Amsterdam', 'Brussels', 'Paris']\n",
            "----------------------------------------\n",
            "Final best route distance: 11.000636132315522\n",
            "Final best route: ['Madrid', 'Barcelona', 'Lyon', 'Paris', 'London', 'Brussels', 'Amsterdam', 'Berlin', 'Frankfurt', 'Milan', 'Rome']\n"
          ]
        }
      ]
    }
  ]
}